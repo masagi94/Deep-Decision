{
 "cells": [
  {
   "cell_type": "code",
   "execution_count": 2,
   "id": "81c37793",
   "metadata": {},
   "outputs": [
    {
     "name": "stdout",
     "output_type": "stream",
     "text": [
      "Collecting numpy\n",
      "  Downloading numpy-1.24.2-cp39-cp39-macosx_10_9_x86_64.whl (19.8 MB)\n",
      "\u001b[2K     \u001b[90m━━━━━━━━━━━━━━━━━━━━━━━━━━━━━━━━━━━━━━━━\u001b[0m \u001b[32m19.8/19.8 MB\u001b[0m \u001b[31m32.9 MB/s\u001b[0m eta \u001b[36m0:00:00\u001b[0m00:01\u001b[0m00:01\u001b[0m\n",
      "\u001b[?25hInstalling collected packages: numpy\n",
      "Successfully installed numpy-1.24.2\n"
     ]
    }
   ],
   "source": [
    "!pip install numpy"
   ]
  },
  {
   "cell_type": "code",
   "execution_count": 1,
   "id": "5055d637",
   "metadata": {},
   "outputs": [],
   "source": [
    "import cv2\n",
    "import numpy as np\n",
    "import socket\n",
    "import matplotlib\n",
    "matplotlib.use('agg')\n",
    "import matplotlib.pyplot as plt\n",
    "import queue\n",
    "import threading"
   ]
  },
  {
   "cell_type": "code",
   "execution_count": 2,
   "id": "995ce2c5",
   "metadata": {},
   "outputs": [],
   "source": [
    "def receive_detections():\n",
    "    \n",
    "    while True:\n",
    "        detection, addr = sock.recvfrom(65535)\n",
    "#         print(\"RECEIVED DETECTION\")\n",
    "        detections_queue.put(detection)\n",
    "        "
   ]
  },
  {
   "cell_type": "code",
   "execution_count": 4,
   "id": "0e3d250c",
   "metadata": {},
   "outputs": [],
   "source": [
    "# def render_detections():\n",
    "    \n",
    "#     while True:\n",
    "#         while not detections_queue.empty():\n",
    "#             detection = detections_queue.get()\n",
    "            \n",
    "#             img_encoded = np.frombuffer(detection, dtype=np.uint8)\n",
    "#             img = cv2.imdecode(img_encoded, cv2.IMREAD_COLOR)\n",
    "\n",
    "\n",
    "#             cv2.imshow(\"local video\",img[:,:,::-1])\n",
    "#             key = cv2.waitKey(1) & 0xFF\n",
    "#             if key == ord('q'):\n",
    "#                 break"
   ]
  },
  {
   "cell_type": "code",
   "execution_count": 3,
   "id": "43eea77a",
   "metadata": {},
   "outputs": [],
   "source": [
    "# Define IP address and port number of the client\n",
    "ip = '192.168.1.189'\n",
    "port = 5005\n",
    "\n",
    "# Create UDP socket\n",
    "sock = socket.socket(socket.AF_INET, socket.SOCK_DGRAM)\n",
    "\n",
    "# Create video capture object\n",
    "cap = cv2.VideoCapture(0)\n",
    "\n",
    "# # Set video capture properties\n",
    "cap.set(cv2.CAP_PROP_FRAME_WIDTH, 640)\n",
    "cap.set(cv2.CAP_PROP_FRAME_HEIGHT, 480)\n",
    "\n",
    "# Define the encoding parameters for the JPEG images\n",
    "encode_param = [int(cv2.IMWRITE_JPEG_QUALITY), 90]"
   ]
  },
  {
   "cell_type": "code",
   "execution_count": 4,
   "id": "f3cc0ebc",
   "metadata": {},
   "outputs": [],
   "source": [
    "detections_queue = queue.Queue()\n",
    "\n",
    "t1 = threading.Thread(target=receive_detections)\n",
    "# t2 = threading.Thread(target=render_detections)\n",
    "t1.start()\n",
    "# t2.start()"
   ]
  },
  {
   "cell_type": "code",
   "execution_count": 6,
   "id": "74bb6dfc",
   "metadata": {},
   "outputs": [
    {
     "data": {
      "text/plain": [
       "0"
      ]
     },
     "execution_count": 6,
     "metadata": {},
     "output_type": "execute_result"
    }
   ],
   "source": [
    "detections_queue.qsize()"
   ]
  },
  {
   "cell_type": "code",
   "execution_count": 8,
   "id": "046b894c",
   "metadata": {},
   "outputs": [],
   "source": [
    "\n",
    "color = (0,0,255)\n",
    "thickness = 2\n",
    "\n",
    "\n",
    "while True:\n",
    "    # Capture frame from webcam\n",
    "    ret, frame = cap.read()\n",
    "\n",
    "    # Check if frame was captured successfully\n",
    "    if not ret:\n",
    "        print(\"Error capturing frame.\")\n",
    "        break\n",
    "        \n",
    "    # Encode frame as JPEG\n",
    "    _, img_encoded = cv2.imencode('.jpg', frame, encode_param)\n",
    "\n",
    "    # Convert encoded frame to bytes\n",
    "    data = np.array(img_encoded)\n",
    "    string_data = data.tobytes()\n",
    "    \n",
    "#     print(\"SENDING...\")\n",
    "    \n",
    "    # Send frame to client\n",
    "    try:\n",
    "        sock.sendto(string_data, (ip, port))\n",
    "    except:\n",
    "        print(\"ERROR - FRAME NOT SENT\")\n",
    "        \n",
    "#     print(detections_queue.qsize())\n",
    "    while not detections_queue.empty():\n",
    "        detection = detections_queue.get()\n",
    "\n",
    "        img_encoded = np.frombuffer(detection, dtype=np.uint8)\n",
    "        \n",
    "        \n",
    "        img = cv2.imdecode(img_encoded, cv2.IMREAD_COLOR)\n",
    "#         if(img is not None):\n",
    "        cv2.imshow(\"local video\",img[:,:,::-1])\n",
    "\n",
    "\n",
    "#     cv2.imshow(\"local video\",frame)\n",
    "#     print(\"SENT...\")\n",
    "    \n",
    "    \n",
    "    \n",
    "    \n",
    "    ## THIS WORKS BUT DEADLOCK\n",
    "    \n",
    "    # wait for response from client\n",
    "    # Receive a UDP packet containing a JPEG image\n",
    "#     print(\"LISTENING...\")\n",
    "    \n",
    "    \n",
    "#     data, addr = sock.recvfrom(65535)\n",
    "#     print(\"RECEIVED...\")\n",
    "    \n",
    "#     img_encoded = np.frombuffer(data, dtype=np.uint8)\n",
    "#     img = cv2.imdecode(img_encoded, cv2.IMREAD_COLOR)\n",
    "    \n",
    "    \n",
    "#     cv2.imshow(\"local video\",img[:,:,::-1])\n",
    "    \n",
    "    ## THIS WORKS BUT DEADLOCK\n",
    "    \n",
    "    \n",
    "    \n",
    "    \n",
    "    \n",
    "    \n",
    "#     break\n",
    "\n",
    "#     while not detections_queue.empty():\n",
    "#         detection = detections_queue.get()\n",
    "\n",
    "#         data_decoded = np.char.decode(detection).reshape(1,)[0]\n",
    "\n",
    "#         result = eval('np.array(' + data_decoded + ')')\n",
    "    \n",
    "    \n",
    "#         start_point = (int(result[0].astype('float')), int(result[1].astype('float')))\n",
    "#         end_point = (int(result[2].astype('float')), int(result[3].astype('float')))\n",
    "    \n",
    "\n",
    "#         frame = cv2.rectangle(frame, start_point, end_point, color, thickness)\n",
    "#         break\n",
    "#     detections_queue.task_done()\n",
    "\n",
    "\n",
    "#     cv2.imshow(\"local video\",frame)\n",
    "    \n",
    "#     cv2.imshow(\"local video\",frame)\n",
    "    \n",
    "    # Wait for 1 millisecond, and check if the user pressed the 'q' key or the window was closed\n",
    "    key = cv2.waitKey(1) & 0xFF\n",
    "    if key == ord('q'):\n",
    "        break\n",
    "\n",
    "# cap.release()\n",
    "# cv2.destroyAllWindows()"
   ]
  },
  {
   "cell_type": "code",
   "execution_count": 5,
   "id": "f46e7b20",
   "metadata": {},
   "outputs": [
    {
     "data": {
      "text/plain": [
       "True"
      ]
     },
     "execution_count": 5,
     "metadata": {},
     "output_type": "execute_result"
    }
   ],
   "source": [
    "cv2.imwrite(\"/Users/mauro/Desktop/test_img.jpg\",img)"
   ]
  },
  {
   "cell_type": "code",
   "execution_count": 4,
   "id": "af20febd",
   "metadata": {},
   "outputs": [
    {
     "data": {
      "text/plain": [
       "b\"[74.21957397460938,57.23484802246094,632.131591796875,477.983154296875,0.9271251559257507,0,'person']\""
      ]
     },
     "execution_count": 4,
     "metadata": {},
     "output_type": "execute_result"
    }
   ],
   "source": [
    "data"
   ]
  },
  {
   "cell_type": "code",
   "execution_count": null,
   "id": "ef71530c",
   "metadata": {},
   "outputs": [],
   "source": []
  },
  {
   "cell_type": "code",
   "execution_count": null,
   "id": "2abf9f27",
   "metadata": {},
   "outputs": [],
   "source": [
    "cap.release()\n",
    "cv2.destroyAllWindows()"
   ]
  },
  {
   "cell_type": "code",
   "execution_count": null,
   "id": "48b5ac79",
   "metadata": {},
   "outputs": [],
   "source": [
    "plt.imshow(img[:,:,::-1])"
   ]
  },
  {
   "cell_type": "code",
   "execution_count": null,
   "id": "d693c5e2",
   "metadata": {},
   "outputs": [],
   "source": []
  },
  {
   "cell_type": "code",
   "execution_count": null,
   "id": "3ad5db0d",
   "metadata": {},
   "outputs": [],
   "source": []
  },
  {
   "cell_type": "code",
   "execution_count": null,
   "id": "3cb9e970",
   "metadata": {},
   "outputs": [],
   "source": []
  },
  {
   "cell_type": "code",
   "execution_count": 5,
   "id": "9aa35e5a",
   "metadata": {},
   "outputs": [
    {
     "name": "stdout",
     "output_type": "stream",
     "text": [
      "SENDING...\n",
      "SENT...\n",
      "LISTENING...\n",
      "RECEIVED...\n"
     ]
    }
   ],
   "source": [
    "while True:\n",
    "    # Capture frame from webcam\n",
    "    ret, frame = cap.read()\n",
    "\n",
    "    # Check if frame was captured successfully\n",
    "    if not ret:\n",
    "        print(\"Error capturing frame.\")\n",
    "        break\n",
    "        \n",
    "    # Encode frame as JPEG\n",
    "    _, img_encoded = cv2.imencode('.jpg', frame, encode_param)\n",
    "\n",
    "    # Convert encoded frame to bytes\n",
    "    data = np.array(img_encoded)\n",
    "    string_data = data.tobytes()\n",
    "    \n",
    "    print(\"SENDING...\")\n",
    "    \n",
    "    # Send frame to client\n",
    "    sock.sendto(string_data, (ip, port))\n",
    "    print(\"SENT...\")\n",
    "    \n",
    "    \n",
    "    \n",
    "    \n",
    "    \n",
    "    \n",
    "    # wait for response from client\n",
    "    # Receive a UDP packet containing a JPEG image\n",
    "    print(\"LISTENING...\")\n",
    "    data, addr = sock.recvfrom(65535)\n",
    "    print(\"RECEIVED...\")\n",
    "    break\n",
    "\n",
    "\n",
    "\n",
    "\n",
    "    data_decoded = np.char.decode(data).reshape(1,)[0]\n",
    "    \n",
    "    result = eval('np.array(' + data_decoded + ')')\n",
    "    print(result)\n",
    "    \n",
    "    start_point = (int(result[0].astype('float')), int(result[1].astype('float')))\n",
    "    end_point = (int(result[2].astype('float')), int(result[3].astype('float')))\n",
    "    color = (0,0,255)\n",
    "    thickness = 2\n",
    "\n",
    "#     m = frame.copy() \n",
    "\n",
    "    image = cv2.rectangle(frame, start_point, end_point, color, thickness)\n",
    "    cv2.imshow(\"local video\",image)\n",
    "    \n",
    "#     cv2.imshow(\"local video\",frame)\n",
    "    \n",
    "    # Wait for 1 millisecond, and check if the user pressed the 'q' key or the window was closed\n",
    "    key = cv2.waitKey(1) & 0xFF\n",
    "    if key == ord('q'):\n",
    "        break\n",
    "\n",
    "# cap.release()\n",
    "# cv2.destroyAllWindows()"
   ]
  },
  {
   "cell_type": "code",
   "execution_count": 27,
   "id": "54657d48",
   "metadata": {},
   "outputs": [
    {
     "ename": "NameError",
     "evalue": "name 'img' is not defined",
     "output_type": "error",
     "traceback": [
      "\u001b[0;31m---------------------------------------------------------------------------\u001b[0m",
      "\u001b[0;31mNameError\u001b[0m                                 Traceback (most recent call last)",
      "Cell \u001b[0;32mIn[27], line 1\u001b[0m\n\u001b[0;32m----> 1\u001b[0m plt\u001b[38;5;241m.\u001b[39mimshow(\u001b[43mimg\u001b[49m[:,:,::\u001b[38;5;241m-\u001b[39m\u001b[38;5;241m1\u001b[39m])\n",
      "\u001b[0;31mNameError\u001b[0m: name 'img' is not defined"
     ]
    }
   ],
   "source": [
    "plt.imshow(img[:,:,::-1])"
   ]
  },
  {
   "cell_type": "code",
   "execution_count": null,
   "id": "e105ca9b",
   "metadata": {},
   "outputs": [],
   "source": []
  },
  {
   "cell_type": "code",
   "execution_count": 41,
   "id": "8dc0dd93",
   "metadata": {},
   "outputs": [],
   "source": [
    "cap.release()\n",
    "cv2.destroyAllWindows()"
   ]
  },
  {
   "cell_type": "code",
   "execution_count": null,
   "id": "d35636d6",
   "metadata": {},
   "outputs": [],
   "source": []
  },
  {
   "cell_type": "code",
   "execution_count": null,
   "id": "0ddcc735",
   "metadata": {},
   "outputs": [],
   "source": []
  },
  {
   "cell_type": "code",
   "execution_count": null,
   "id": "0839bab4",
   "metadata": {},
   "outputs": [],
   "source": []
  }
 ],
 "metadata": {
  "kernelspec": {
   "display_name": "Python 3 (ipykernel)",
   "language": "python",
   "name": "python3"
  },
  "language_info": {
   "codemirror_mode": {
    "name": "ipython",
    "version": 3
   },
   "file_extension": ".py",
   "mimetype": "text/x-python",
   "name": "python",
   "nbconvert_exporter": "python",
   "pygments_lexer": "ipython3",
   "version": "3.9.13"
  }
 },
 "nbformat": 4,
 "nbformat_minor": 5
}
