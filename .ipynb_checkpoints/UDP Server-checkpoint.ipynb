{
 "cells": [
  {
   "cell_type": "code",
   "execution_count": 2,
   "id": "81c37793",
   "metadata": {},
   "outputs": [
    {
     "name": "stdout",
     "output_type": "stream",
     "text": [
      "Collecting numpy\n",
      "  Downloading numpy-1.24.2-cp39-cp39-macosx_10_9_x86_64.whl (19.8 MB)\n",
      "\u001b[2K     \u001b[90m━━━━━━━━━━━━━━━━━━━━━━━━━━━━━━━━━━━━━━━━\u001b[0m \u001b[32m19.8/19.8 MB\u001b[0m \u001b[31m32.9 MB/s\u001b[0m eta \u001b[36m0:00:00\u001b[0m00:01\u001b[0m00:01\u001b[0m\n",
      "\u001b[?25hInstalling collected packages: numpy\n",
      "Successfully installed numpy-1.24.2\n"
     ]
    }
   ],
   "source": [
    "!pip install numpy"
   ]
  },
  {
   "cell_type": "code",
   "execution_count": 1,
   "id": "5055d637",
   "metadata": {},
   "outputs": [],
   "source": [
    "import cv2\n",
    "import numpy as np\n",
    "import socket\n",
    "import matplotlib.pyplot as plt\n",
    "import queue\n",
    "import threading"
   ]
  },
  {
   "cell_type": "code",
   "execution_count": 2,
   "id": "2f90c73e",
   "metadata": {},
   "outputs": [],
   "source": [
    "def receive_detections():\n",
    "    \n",
    "    while True:\n",
    "        detection, addr = sock.recvfrom(65535)\n",
    "#         print(\"RECEIVED DETECTION\")\n",
    "        detections_queue.put(detection)\n",
    "        "
   ]
  },
  {
   "cell_type": "code",
   "execution_count": 3,
   "id": "97e2fdd2",
   "metadata": {},
   "outputs": [],
   "source": [
    "def render_detections():\n",
    "    \n",
    "    while True:\n",
    "        while not detections_queue.empty():\n",
    "            detection = detections_queue.get()\n",
    "            \n",
    "            img_encoded = np.frombuffer(detection, dtype=np.uint8)\n",
    "            img = cv2.imdecode(img_encoded, cv2.IMREAD_COLOR)\n",
    "\n",
    "\n",
    "            cv2.imshow(\"local video\",img[:,:,::-1])"
   ]
  },
  {
   "cell_type": "code",
   "execution_count": 4,
   "id": "43eea77a",
   "metadata": {},
   "outputs": [],
   "source": [
    "# Define IP address and port number of the client\n",
    "ip = '192.168.1.189'\n",
    "port = 5005\n",
    "\n",
    "# Create UDP socket\n",
    "sock = socket.socket(socket.AF_INET, socket.SOCK_DGRAM)\n",
    "\n",
    "# Create video capture object\n",
    "cap = cv2.VideoCapture(0)\n",
    "\n",
    "# # Set video capture properties\n",
    "cap.set(cv2.CAP_PROP_FRAME_WIDTH, 640)\n",
    "cap.set(cv2.CAP_PROP_FRAME_HEIGHT, 480)\n",
    "\n",
    "# Define the encoding parameters for the JPEG images\n",
    "encode_param = [int(cv2.IMWRITE_JPEG_QUALITY), 90]"
   ]
  },
  {
   "cell_type": "code",
   "execution_count": 5,
   "id": "c84f1255",
   "metadata": {},
   "outputs": [],
   "source": [
    "detections_queue = queue.Queue()\n",
    "\n",
    "t1 = threading.Thread(target=receive_detections)\n",
    "t2 = threading.Thread(target=render_detections)\n",
    "t1.start()\n",
    "t2.start()"
   ]
  },
  {
   "cell_type": "code",
   "execution_count": null,
   "id": "b82f25bc",
   "metadata": {},
   "outputs": [
    {
     "name": "stderr",
     "output_type": "stream",
     "text": [
      "Exception in thread Thread-6:\n",
      "Traceback (most recent call last):\n",
      "  File \"/opt/anaconda3/lib/python3.9/threading.py\", line 980, in _bootstrap_inner\n",
      "    self.run()\n",
      "  File \"/opt/anaconda3/lib/python3.9/threading.py\", line 917, in run\n",
      "    self._target(*self._args, **self._kwargs)\n",
      "  File \"/var/folders/rk/fhhy9rgx0mn640nqchbtjr800000gn/T/ipykernel_22258/1962007527.py\", line 11, in render_detections\n",
      "TypeError: 'NoneType' object is not subscriptable\n"
     ]
    }
   ],
   "source": [
    "\n",
    "color = (0,0,255)\n",
    "thickness = 2\n",
    "\n",
    "\n",
    "while True:\n",
    "    # Capture frame from webcam\n",
    "    ret, frame = cap.read()\n",
    "\n",
    "    # Check if frame was captured successfully\n",
    "    if not ret:\n",
    "        print(\"Error capturing frame.\")\n",
    "        break\n",
    "        \n",
    "    # Encode frame as JPEG\n",
    "    _, img_encoded = cv2.imencode('.jpg', frame, encode_param)\n",
    "\n",
    "    # Convert encoded frame to bytes\n",
    "    data = np.array(img_encoded)\n",
    "    string_data = data.tobytes()\n",
    "    \n",
    "#     print(\"SENDING...\")\n",
    "    \n",
    "    # Send frame to client\n",
    "    sock.sendto(string_data, (ip, port))\n",
    "    \n",
    "    while not detections_queue.empty():\n",
    "        detection = detections_queue.get()\n",
    "\n",
    "        img_encoded = np.frombuffer(detection, dtype=np.uint8)\n",
    "        img = cv2.imdecode(img_encoded, cv2.IMREAD_COLOR)\n",
    "\n",
    "\n",
    "    cv2.imshow(\"local video\",img[:,:,::-1])\n",
    "#     print(\"SENT...\")\n",
    "    \n",
    "    \n",
    "    \n",
    "    \n",
    "    ## THIS WORKS BUT DEADLOCK\n",
    "    \n",
    "    # wait for response from client\n",
    "    # Receive a UDP packet containing a JPEG image\n",
    "#     print(\"LISTENING...\")\n",
    "    \n",
    "    \n",
    "#     data, addr = sock.recvfrom(65535)\n",
    "#     print(\"RECEIVED...\")\n",
    "    \n",
    "#     img_encoded = np.frombuffer(data, dtype=np.uint8)\n",
    "#     img = cv2.imdecode(img_encoded, cv2.IMREAD_COLOR)\n",
    "    \n",
    "    \n",
    "#     cv2.imshow(\"local video\",img[:,:,::-1])\n",
    "    \n",
    "    ## THIS WORKS BUT DEADLOCK\n",
    "    \n",
    "    \n",
    "    \n",
    "    \n",
    "    \n",
    "    \n",
    "#     break\n",
    "\n",
    "#     while not detections_queue.empty():\n",
    "#         detection = detections_queue.get()\n",
    "\n",
    "#         data_decoded = np.char.decode(detection).reshape(1,)[0]\n",
    "\n",
    "#         result = eval('np.array(' + data_decoded + ')')\n",
    "    \n",
    "    \n",
    "#         start_point = (int(result[0].astype('float')), int(result[1].astype('float')))\n",
    "#         end_point = (int(result[2].astype('float')), int(result[3].astype('float')))\n",
    "    \n",
    "\n",
    "#         frame = cv2.rectangle(frame, start_point, end_point, color, thickness)\n",
    "#         break\n",
    "#     detections_queue.task_done()\n",
    "\n",
    "\n",
    "#     cv2.imshow(\"local video\",frame)\n",
    "    \n",
    "#     cv2.imshow(\"local video\",frame)\n",
    "    \n",
    "    # Wait for 1 millisecond, and check if the user pressed the 'q' key or the window was closed\n",
    "#     key = cv2.waitKey(1) & 0xFF\n",
    "#     if key == ord('q'):\n",
    "#         break\n",
    "\n",
    "# cap.release()\n",
    "# cv2.destroyAllWindows()"
   ]
  },
  {
   "cell_type": "code",
   "execution_count": 5,
   "id": "8c25a2f6",
   "metadata": {},
   "outputs": [
    {
     "data": {
      "text/plain": [
       "True"
      ]
     },
     "execution_count": 5,
     "metadata": {},
     "output_type": "execute_result"
    }
   ],
   "source": [
    "cv2.imwrite(\"/Users/mauro/Desktop/test_img.jpg\",img)"
   ]
  },
  {
   "cell_type": "code",
   "execution_count": null,
   "id": "fb8b4624",
   "metadata": {},
   "outputs": [],
   "source": []
  },
  {
   "cell_type": "code",
   "execution_count": null,
   "id": "c6371167",
   "metadata": {},
   "outputs": [],
   "source": []
  },
  {
   "cell_type": "code",
   "execution_count": null,
   "id": "2658ca44",
   "metadata": {},
   "outputs": [],
   "source": [
    "cap.release()\n",
    "cv2.destroyAllWindows()"
   ]
  },
  {
   "cell_type": "code",
   "execution_count": null,
   "id": "72893ce8",
   "metadata": {},
   "outputs": [],
   "source": [
    "plt.imshow(img[:,:,::-1])"
   ]
  },
  {
   "cell_type": "code",
   "execution_count": null,
   "id": "8e5f87f9",
   "metadata": {},
   "outputs": [],
   "source": []
  },
  {
   "cell_type": "code",
   "execution_count": null,
   "id": "a4571dfa",
   "metadata": {},
   "outputs": [],
   "source": []
  },
  {
   "cell_type": "code",
   "execution_count": null,
   "id": "90087a2c",
   "metadata": {},
   "outputs": [],
   "source": []
  },
  {
   "cell_type": "code",
   "execution_count": 5,
   "id": "9aa35e5a",
   "metadata": {},
   "outputs": [
    {
     "name": "stdout",
     "output_type": "stream",
     "text": [
      "SENDING...\n",
      "SENT...\n",
      "LISTENING...\n",
      "RECEIVED...\n"
     ]
    }
   ],
   "source": [
    "while True:\n",
    "    # Capture frame from webcam\n",
    "    ret, frame = cap.read()\n",
    "\n",
    "    # Check if frame was captured successfully\n",
    "    if not ret:\n",
    "        print(\"Error capturing frame.\")\n",
    "        break\n",
    "        \n",
    "    # Encode frame as JPEG\n",
    "    _, img_encoded = cv2.imencode('.jpg', frame, encode_param)\n",
    "\n",
    "    # Convert encoded frame to bytes\n",
    "    data = np.array(img_encoded)\n",
    "    string_data = data.tobytes()\n",
    "    \n",
    "    print(\"SENDING...\")\n",
    "    \n",
    "    # Send frame to client\n",
    "    sock.sendto(string_data, (ip, port))\n",
    "    print(\"SENT...\")\n",
    "    \n",
    "    \n",
    "    \n",
    "    \n",
    "    \n",
    "    \n",
    "    # wait for response from client\n",
    "    # Receive a UDP packet containing a JPEG image\n",
    "    print(\"LISTENING...\")\n",
    "    data, addr = sock.recvfrom(65535)\n",
    "    print(\"RECEIVED...\")\n",
    "    break\n",
    "\n",
    "\n",
    "\n",
    "\n",
    "    data_decoded = np.char.decode(data).reshape(1,)[0]\n",
    "    \n",
    "    result = eval('np.array(' + data_decoded + ')')\n",
    "    print(result)\n",
    "    \n",
    "    start_point = (int(result[0].astype('float')), int(result[1].astype('float')))\n",
    "    end_point = (int(result[2].astype('float')), int(result[3].astype('float')))\n",
    "    color = (0,0,255)\n",
    "    thickness = 2\n",
    "\n",
    "#     m = frame.copy() \n",
    "\n",
    "    image = cv2.rectangle(frame, start_point, end_point, color, thickness)\n",
    "    cv2.imshow(\"local video\",image)\n",
    "    \n",
    "#     cv2.imshow(\"local video\",frame)\n",
    "    \n",
    "    # Wait for 1 millisecond, and check if the user pressed the 'q' key or the window was closed\n",
    "    key = cv2.waitKey(1) & 0xFF\n",
    "    if key == ord('q'):\n",
    "        break\n",
    "\n",
    "# cap.release()\n",
    "# cv2.destroyAllWindows()"
   ]
  },
  {
   "cell_type": "code",
   "execution_count": 27,
   "id": "51055ba5",
   "metadata": {},
   "outputs": [
    {
     "ename": "NameError",
     "evalue": "name 'img' is not defined",
     "output_type": "error",
     "traceback": [
      "\u001b[0;31m---------------------------------------------------------------------------\u001b[0m",
      "\u001b[0;31mNameError\u001b[0m                                 Traceback (most recent call last)",
      "Cell \u001b[0;32mIn[27], line 1\u001b[0m\n\u001b[0;32m----> 1\u001b[0m plt\u001b[38;5;241m.\u001b[39mimshow(\u001b[43mimg\u001b[49m[:,:,::\u001b[38;5;241m-\u001b[39m\u001b[38;5;241m1\u001b[39m])\n",
      "\u001b[0;31mNameError\u001b[0m: name 'img' is not defined"
     ]
    }
   ],
   "source": [
    "plt.imshow(img[:,:,::-1])"
   ]
  },
  {
   "cell_type": "code",
   "execution_count": null,
   "id": "0fd208da",
   "metadata": {},
   "outputs": [],
   "source": []
  },
  {
   "cell_type": "code",
   "execution_count": 41,
   "id": "8dc0dd93",
   "metadata": {},
   "outputs": [],
   "source": [
    "cap.release()\n",
    "cv2.destroyAllWindows()"
   ]
  },
  {
   "cell_type": "code",
   "execution_count": null,
   "id": "d35636d6",
   "metadata": {},
   "outputs": [],
   "source": []
  },
  {
   "cell_type": "code",
   "execution_count": null,
   "id": "0ddcc735",
   "metadata": {},
   "outputs": [],
   "source": []
  },
  {
   "cell_type": "code",
   "execution_count": null,
   "id": "0839bab4",
   "metadata": {},
   "outputs": [],
   "source": []
  }
 ],
 "metadata": {
  "kernelspec": {
   "display_name": "Python 3 (ipykernel)",
   "language": "python",
   "name": "python3"
  },
  "language_info": {
   "codemirror_mode": {
    "name": "ipython",
    "version": 3
   },
   "file_extension": ".py",
   "mimetype": "text/x-python",
   "name": "python",
   "nbconvert_exporter": "python",
   "pygments_lexer": "ipython3",
   "version": "3.9.13"
  }
 },
 "nbformat": 4,
 "nbformat_minor": 5
}
